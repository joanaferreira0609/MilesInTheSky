{
  "cells": [
    {
      "cell_type": "markdown",
      "metadata": {
        "id": "view-in-github",
        "colab_type": "text"
      },
      "source": [
        "<a href=\"https://colab.research.google.com/github/joanaferreira0609/MilesInTheSky/blob/main/C%C3%B3pia_de_Mission_1_Overcome_World_Missconceptions.ipynb\" target=\"_parent\"><img src=\"https://colab.research.google.com/assets/colab-badge.svg\" alt=\"Open In Colab\"/></a>"
      ]
    },
    {
      "cell_type": "markdown",
      "metadata": {
        "id": "UUY4knKkjGbs"
      },
      "source": [
        "# Overcome world miss-conceptions"
      ]
    },
    {
      "cell_type": "markdown",
      "metadata": {
        "id": "V7oZ1smPjGbt"
      },
      "source": [
        "Welcome to your first Mission's notebook!\n",
        "\n",
        "You'll keep coming back to this notebook throughout this mission, while you explore the learning resources (where you'll learn the important `Python` concepts) and this one!"
      ]
    },
    {
      "cell_type": "markdown",
      "metadata": {
        "id": "ThvbA67MjGbt"
      },
      "source": [
        "✍️ Each chapter corresponds to the end of an Activity:\n",
        "* it has the available data to consider,\n",
        "* and a series of high-level questions to answer."
      ]
    },
    {
      "cell_type": "markdown",
      "metadata": {
        "id": "zLtSTFDvjGbt"
      },
      "source": [
        "🪡 Try to answer the questions on a single cell immediately below each question:\n",
        "* but practice by creating new cells for experiments, at will,\n",
        "* and then organize the answer once you're confident with them.\n",
        "\n",
        "☝🏽 The first 2 questions will have guiding instructions on the steps you should take:\n",
        "* the steps are meant to guide your reasoning and organization of the code;\n",
        "* we expect you to keep the same mentality throughout the rest, finding your own way!\n",
        "\n",
        "☝🏽 Do not forget to write comments documenting your code!"
      ]
    },
    {
      "cell_type": "markdown",
      "metadata": {
        "id": "jiYcfTv2jGbt"
      },
      "source": [
        "Have fun!"
      ]
    },
    {
      "cell_type": "markdown",
      "metadata": {
        "id": "lVptAhGEjGbt"
      },
      "source": [
        "---"
      ]
    },
    {
      "cell_type": "markdown",
      "metadata": {
        "id": "zC_1l1cxjGbt"
      },
      "source": [
        "## 1. Energy and Water Accessibility and Consumption"
      ]
    },
    {
      "cell_type": "markdown",
      "metadata": {
        "id": "wXap3SRdjGbt"
      },
      "source": [
        "### Data"
      ]
    },
    {
      "cell_type": "markdown",
      "metadata": {
        "id": "BKCcsb9ujGbt"
      },
      "source": [
        "ℹ The data for this set of questions refers to 2019 and is arranged in 4 tables:\n",
        "* each corresponding to different commodity types and groups; and\n",
        "* each with (almost) direct correspondence to a question."
      ]
    },
    {
      "cell_type": "markdown",
      "metadata": {
        "id": "i6WFA5QLjGbu"
      },
      "source": [
        "* Global **direct primary energy consumption** per source of energy:\n",
        "\n",
        "(Source: _Our world in Data_)\n",
        "\n",
        "| source of energy | consumption $(TWh)$ |\n",
        "| :---: | :---: |\n",
        "| Coal | 43849 |\n",
        "| Solar | 724 |\n",
        "| Oil | 53620 |\n",
        "| Gas | 39292 |\n",
        "| Biomass | 11111 |\n",
        "| Other renewable | 652 |\n",
        "| Hydropower | 4222 |\n",
        "| Nuclear | 2796 |\n",
        "| Wind | 1430 |\n",
        "| Biofuels | 1143 |\n",
        "| **Total** | 158839 |"
      ]
    },
    {
      "cell_type": "markdown",
      "metadata": {
        "id": "jy1XiXc-jGbu"
      },
      "source": [
        "* Global **access to electricity** per income-based clusters:\n",
        "\n",
        "(Source: _The World Bank_)\n",
        "\n",
        "| cluster | total population | population access to electricity $(\\%)$ |\n",
        "| :---: | :---: | :---: |\n",
        "| low-income | 647870823 | 40.92 |\n",
        "| mid-income | 5786162963 | 93.51 |\n",
        "| high-income | 1210795776 | 99.99 |"
      ]
    },
    {
      "cell_type": "markdown",
      "metadata": {
        "id": "-DWkGP9UjGbu"
      },
      "source": [
        "* Global **freshwater consumption** per region:\n",
        "\n",
        "(Source: _Our world in Data_)\n",
        "\n",
        "| region | consumption $(\\text{trillion } m^3)$ |\n",
        "| :---: | :---: |\n",
        "| BRICS | 1.73 |\n",
        "| OECD | 0.93 |\n",
        "| ROW (rest of world) | 1.33 |\n",
        "\n",
        "* Global **freshwater consumption** per industry (considering 3 segments):\n",
        "\n",
        "(Source: _Our world in Data_)\n",
        "\n",
        "| industry | consumption $(\\%)$ |\n",
        "| :---: | :---: |\n",
        "| domestic | 11.0 |\n",
        "| industry | 19.0 |\n",
        "| agriculture | 70.0 |\n"
      ]
    },
    {
      "cell_type": "markdown",
      "metadata": {
        "id": "mxFFJGUsjGbu"
      },
      "source": [
        "### Questions on energy and water"
      ]
    },
    {
      "cell_type": "markdown",
      "metadata": {
        "id": "SIO9rsyXjGbu"
      },
      "source": [
        "1. **Of all the energy consumed globally in 2019, what percentage came from natural gas, coal and oil combined?**\n",
        "    * create a variable for each of these three energy sources, with the corresponding consumption values;\n",
        "    * create a variable `combined_energy` with the sum of the three energy sources;\n",
        "    * create a variable with the total consumption of all energy sources;\n",
        "    * calculate the percentage making use of the variables."
      ]
    },
    {
      "cell_type": "code",
      "source": [
        "natural_gas = 39292\n",
        "coal = 43849\n",
        "oil = 53620\n",
        "\n",
        "energies = {\"Coal\":\t43849, \"Solar\":\t724, \"Oil\":\t53620, \"Gas\":\t39292, \"Biomass\":\t11111, \"Other renewable\" : 652, \"Hydropower\":\t4222, \"Nuclear\" :\t2796, \"Wind\" :\t1430, \"Biofuels\" :\t1143}\n",
        "\n",
        "combined_energy = natural_gas + coal + oil\n",
        "\n",
        "total_energy = sum(energies.values())\n",
        "\n",
        "perc = (combined_energy * 100)/total_energy\n",
        "\n",
        "print(round(perc,6))"
      ],
      "metadata": {
        "colab": {
          "base_uri": "https://localhost:8080/"
        },
        "id": "CkG_DCg9PvHW",
        "outputId": "868e21af-8541-4ff2-ae24-d7a7b88de289"
      },
      "execution_count": null,
      "outputs": [
        {
          "output_type": "stream",
          "name": "stdout",
          "text": [
            "86.100391\n"
          ]
        }
      ]
    },
    {
      "cell_type": "markdown",
      "metadata": {
        "id": "vYKpPCZvjGbu"
      },
      "source": [
        "2. **How many people in the world had some access to electricity in 2019?**\n",
        "    * create a variable for each region with the number of people with access to electricity;\n",
        "    * create a variable with the total number of people with access to electricity;\n",
        "    * create a variable with the total number of people in the world;\n",
        "    * calculate the percentage making use of the variables."
      ]
    },
    {
      "cell_type": "markdown",
      "metadata": {
        "id": "LcF6N6r2jGbu"
      },
      "source": [
        "3. **Of all the freshwater consumed in 2019, how many trillion $m^3$ went into agriculture?**"
      ]
    },
    {
      "cell_type": "markdown",
      "metadata": {
        "id": "3QH9UtTqjGbu"
      },
      "source": [
        "---"
      ]
    },
    {
      "cell_type": "markdown",
      "metadata": {
        "id": "JI5IKsmrjGbu"
      },
      "source": [
        "## 2. Internet Access"
      ]
    },
    {
      "cell_type": "markdown",
      "metadata": {
        "id": "UhSUUSH2jGbv"
      },
      "source": [
        "### Data"
      ]
    },
    {
      "cell_type": "markdown",
      "metadata": {
        "id": "ccnEXI-NjGbv"
      },
      "source": [
        "ℹ The data for this set of questions refers to 2017 and is all in a single table."
      ]
    },
    {
      "cell_type": "markdown",
      "metadata": {
        "id": "NV5WzRK0jGbv"
      },
      "source": [
        "* **Internet access on low-income countries**:\n",
        "\n",
        "(Source: _Our World in Data_, combining [populations](https://ourworldindata.org/grapher/populations) and [internet](https://ourworldindata.org/grapher/internet-users) data)\n",
        "\n",
        "| country | total pop. | pop. with internet | fraction of pop. with internet |\n",
        "| :--- | ---: | ---: | ---: |                                 \n",
        "|Afghanistan                     |35643420   |4811862               | 0.135 |\n",
        "|Burkina Faso                    |19835860   |3332424               | 0.168 |\n",
        "|Burundi                         |11155592    |296822               | 0.027 |\n",
        "|Central African Republic         |4996741    |199870               | 0.040 |\n",
        "|Chad                            |15085893   |1116356               | 0.074 |\n",
        "|Democratic Republic of Congo    |84283272   |7265138               | 0.086 |\n",
        "|Eritrea                          |3396933     |44463               | 0.013 |\n",
        "|Eritrea                          |3396933     |44463               | 0.013 |\n",
        "|Ethiopia                       |108197944  |20144349               | 0.186 |\n",
        "|Gambia                           |2381189    |597678               | 0.251 |\n",
        "|Guinea                          |12240791   |2289028               | 0.187 |\n",
        "|Guinea-Bissau                    |1879835    |278216               | 0.148 |\n",
        "|Liberia                          |4796632    |781851               | 0.163 |\n",
        "|Madagascar                      |26169540   |2564615               | 0.098 |\n",
        "|Malawi                          |17881172   |1251682               | 0.070 |\n",
        "|Mali                            |19311356   |3649846               | 0.189 |\n",
        "|Mozambique                      |28569448   |2228417               | 0.078 |\n",
        "|Niger                           |21737924   |2222553               | 0.102 |\n",
        "|Niger                           |21737924   |2222553               | 0.102 |\n",
        "|Rwanda                          |12230343   |2662256               | 0.218 |\n",
        "|Sierra Leone                     |7677570   |1016275               | 0.132 |\n",
        "|Somalia                         |14864224    |297886               | 0.020 |\n",
        "|South Sudan                     |10658230    |436987               | 0.041 |\n",
        "|Sudan                           |40679820   |7566447               | 0.186 |\n",
        "|Syria                           |18983370   |6207562               | 0.327 |\n",
        "|Togo                             |7852799    |970624               | 0.124 |\n",
        "|Uganda                          |40127096   |3250295               | 0.081 |\n",
        "|Yemen                           |30034386   |8024694               | 0.267 |\n",
        "\n"
      ]
    },
    {
      "cell_type": "markdown",
      "metadata": {
        "id": "jk7d7L6rjGbv"
      },
      "source": [
        "🫠 For ease of use, we defined 4 lists upfront:\n",
        "* each corresponding to each column,\n",
        "* with matching indices for each country.\n",
        "\n",
        "☝🏽 Don't forget to run the following cell to define the variables:"
      ]
    },
    {
      "cell_type": "code",
      "execution_count": null,
      "metadata": {
        "id": "zHBklBQyjGbv"
      },
      "outputs": [],
      "source": [
        "# set list of countries in alphabetical order\n",
        "countries = ['Afghanistan', 'Burkina Faso', 'Burundi', 'Central African Republic', 'Chad', 'Democratic Republic of Congo', 'Eritrea', 'Ethiopia', 'Gambia', 'Guinea', 'Guinea-Bissau', 'Liberia', 'Madagascar', 'Malawi', 'Mali', 'Mozambique', 'Niger', 'Rwanda', 'Sierra Leone', 'Somalia', 'South Sudan', 'Sudan', 'Syria', 'Togo', 'Uganda', 'Yemen']\n",
        "\n",
        "# set list of total population values\n",
        "    # with positions according to `countries`\n",
        "total_population = [35643420, 19835860, 11155592, 4996741, 15085893, 84283272, 3396933, 108197944, 2381189, 12240791, 1879835, 4796632, 26169540, 17881172, 19311356, 28569448, 21737924, 12230343, 7677570, 14864224, 10658230, 40679820, 18983370, 7852799, 40127096, 30034386]\n",
        "\n",
        "# set list of populations with access to internet\n",
        "    # with positions according to `countries`\n",
        "internet_access_absolute = [4811862, 3332424, 296822, 199870, 1116356, 7265138, 44463, 20144349, 597678, 2289028, 278216, 781851, 2564615, 1251682, 3649846, 2228417, 2222553, 2662256, 1016275, 297886, 436987, 7566447, 6207562, 970624, 3250295, 8024694]\n",
        "\n",
        "# set list of percentages of population with access to internet\n",
        "    # with positions according to `countries`\n",
        "internet_access_fraction = [0.135, 0.168, 0.027, 0.04, 0.074, 0.086, 0.013, 0.186, 0.251, 0.187, 0.148, 0.163, 0.098, 0.07, 0.189, 0.078, 0.102, 0.218, 0.132, 0.02, 0.041, 0.186, 0.327, 0.124, 0.081, 0.267]\n"
      ]
    },
    {
      "cell_type": "markdown",
      "metadata": {
        "id": "jAF2_RZbjGbv"
      },
      "source": [
        "☝🏽 (Notice we are writing the country names with quotes `''` — it shouldn't be too weird — we'll look into text already on the next Activity.)"
      ]
    },
    {
      "cell_type": "markdown",
      "metadata": {
        "id": "C_kJ9m75jGbv"
      },
      "source": [
        "### Questions on internet access"
      ]
    },
    {
      "cell_type": "markdown",
      "metadata": {
        "id": "fziGoqJKjGbv"
      },
      "source": [
        "4. **What was the total number of people with access to internet in the low-income countries in 2017?**"
      ]
    },
    {
      "cell_type": "markdown",
      "metadata": {
        "id": "RScLQBXijGbv"
      },
      "source": [
        "5. **What was the average percentage of the population with access to the internet?**"
      ]
    },
    {
      "cell_type": "markdown",
      "metadata": {
        "id": "kLBTBv6JjGbw"
      },
      "source": [
        "6. **Which low-income country had the lowest number of people with access to the internet?**"
      ]
    },
    {
      "cell_type": "markdown",
      "metadata": {
        "id": "Wsrd-RDxjGbw"
      },
      "source": [
        "7. **Which low-income country had the highest percentage of the population with access to internet?**"
      ]
    },
    {
      "cell_type": "markdown",
      "metadata": {
        "id": "t56aZIlwjGbw"
      },
      "source": [
        "---"
      ]
    },
    {
      "cell_type": "markdown",
      "metadata": {
        "id": "HksaI1LujGbw"
      },
      "source": [
        "## 3. International Refugees"
      ]
    },
    {
      "cell_type": "markdown",
      "metadata": {
        "id": "eCn7rgZljGbw"
      },
      "source": [
        "### Data"
      ]
    },
    {
      "cell_type": "markdown",
      "metadata": {
        "id": "fY_mIgrD1P5g"
      },
      "source": [
        "ℹ The data for this set of questions refers to 2020, and is all in a single table.\n",
        "\n",
        "* **Global international refugees by destination** per country: [link to the table](https://drive.google.com/file/d/1hB_T2w52gV60ziQjRiWiHYS-hJ7vpV2Y/view?usp=share_link) (it is too big to fit nicely into `Colab`)"
      ]
    },
    {
      "cell_type": "markdown",
      "metadata": {
        "id": "KlzXNlUq1P5j"
      },
      "source": [
        "For ease of use, we defined a dictionary with all of the data, with each item corresponding to a region:\n",
        "* each key is a `str` with the region name\n",
        "* each value is another `dict` with region info:\n",
        "    * a `list` of its countries,\n",
        "    * a `list` of the populations of each country (with matching indices), and\n",
        "    * a `list` of the refugees that where sheltered in each country (with matching indices)\n",
        "\n",
        "🧐 The lists on each region have matching indices for each country and its population and refugee numbers."
      ]
    },
    {
      "cell_type": "code",
      "execution_count": null,
      "metadata": {
        "id": "S3YC8k-OjGbw"
      },
      "outputs": [],
      "source": [
        "# set the data on refugees for each country\n",
        "    # organized by region\n",
        "    # each list has the same order as `countries` in the corresponding region\n",
        "refugees_data = {\n",
        "    'East Asia and Pacific': {\n",
        "        'countries': ['Lao','North Korea','Malaysia','Tonga','Hong Kong, China','Mongolia','China','Myanmar','Solomon Islands','Tuvalu','Thailand','Marshall Islands','Micronesia, Fed. Sts.','Fiji','Japan','Timor-Leste','Papua New Guinea','South Korea','Brunei','Australia','Philippines','New Zealand','Nauru','Cambodia','Palau','Kiribati','Samoa','Singapore','Vanuatu','Vietnam','Indonesia'],\n",
        "        'populations': [7275556, 25778815, 32365998, 105697, 7481800, 3278292, 1402112000, 54409794, 686878, 11792, 69799978, 59194, 115021, 896444, 125836021, 1318442, 8947027, 51780579, 437483, 25687041, 109581085, 5084300, 10834, 16718971, 18092, 119446, 198410, 5685807, 307150, 97338583, 273523621],\n",
        "        'refugees': [0, 0, 180000, 0, 266, 20, 304000, 0, 0, 0, 97100, 0, 0, 19, 24900, 0, 10900, 23600, 0, 138000, 1140, 2500, 1170, 12, 0, 0, 0, 5, 0, 5, 13700]\n",
        "    },\n",
        "    'Europe and Central Asia': {\n",
        "        'countries': ['Greece', 'Spain', 'Estonia', 'Holy See', 'Finland', 'Kyrgyz Republic', 'Italy', 'France', 'Turkmenistan', 'San Marino', 'United Kingdom', 'Tajikistan', 'Slovak Republic', 'Hungary', 'Iceland', 'Sweden', 'Slovenia', 'Ireland', 'Liechtenstein', 'Croatia', 'Germany', 'Luxembourg', 'Albania', 'Andorra', 'Armenia', 'Austria', 'Azerbaijan', 'Belgium', 'Norway', 'Bulgaria', 'Netherlands', 'Bosnia and Herzegovina', 'Belarus', 'Poland', 'Portugal', 'Lithuania', 'Uzbekistan', 'Kazakhstan', 'Russia', 'Switzerland', 'Montenegro', 'Ukraine', 'Turkey', 'Romania', 'North Macedonia', 'Latvia', 'Denmark', 'Cyprus', 'Monaco', 'Czech Republic', 'Moldova'],\n",
        "        'populations': [10715549, 47351567, 1331057, 801, 5530719, 6591600, 59554023, 67391582, 6031187, 33938, 67215293, 9537642, 5458827, 9749763, 366425, 10353442, 2100126, 4994724, 38137, 4047200, 83240525, 632275, 2837743, 77265, 2963234, 8917205, 10110116, 11555997, 5379475, 6927288, 17441139, 3280815, 9398861, 37950802, 10305564, 2794700, 34232050, 18754440, 144104080, 8636896, 621718, 44134693, 84339067, 19286123, 2083380, 1901548, 5831404, 1207361, 39244, 10698896, 2617820],\n",
        "        'refugees': [164000, 207000, 302, 0, 29800, 677, 182000, 554000, 20, 0, 210000, 6000, 1080, 5940, 1690, 267000, 1140, 16500, 174, 1530, 1450000, 6610, 115, 0, 108000, 163000, 1630, 94300, 50800, 23100, 90800, 5510, 3060, 6410, 3600, 2040, 18, 668, 21100, 122000, 369, 4630, 3970000, 5870, 335, 740, 38000, 34500, 22, 3500, 494]\n",
        "    },\n",
        "    'Latin America and Caribbean': {\n",
        "        'countries': ['Suriname', 'St. Lucia', 'Paraguay', 'Mexico', 'Nicaragua', 'St. Kitts and Nevis', 'El Salvador', 'Grenada', 'Jamaica', 'Argentina', 'Antigua and Barbuda', 'Venezuela', 'Bahamas', 'Belize', 'Bolivia', 'Brazil', 'Barbados', 'St. Vincent and the Grenadines', 'Chile', 'Uruguay', 'Colombia', 'Costa Rica', 'Cuba', 'Dominica', 'Trinidad and Tobago', 'Peru', 'Honduras', 'Guatemala', 'Panama', 'Haiti', 'Dominican Republic', 'Guyana', 'Ecuador'],\n",
        "        'populations': [586634, 183629, 7132530, 128932753, 6624554, 53192, 6486201, 112519, 2961161, 45376763, 97928, 28435943, 393248, 397621, 11673029, 212559409, 287371, 110947, 19116209, 3473727, 50882884, 5094114, 11326616, 71991, 1399491, 32971846, 9904608, 16858333, 4314768, 11402533, 10847904, 786559, 17643060],\n",
        "        'refugees': [2010, 0, 6030, 211000, 452, 19, 116, 239, 104, 185000, 0, 68400, 38, 2280, 10900, 420000, 5, 14, 465000, 25400, 1750000, 122000, 242, 0, 27800, 1060000, 201, 1250, 134000, 10, 115000, 23400, 532000]\n",
        "    },\n",
        "    'Middle East and North Africa': {\n",
        "        'countries': ['Iran', 'Israel', 'United Arab Emirates', 'Oman', 'Kuwait', 'Yemen', 'Lebanon', 'Iraq', 'Bahrain', 'Morocco', 'Palestine', 'Qatar', 'Malta', 'Syria', 'Tunisia', 'Jordan', 'Egypt', 'Saudi Arabia', 'Djibouti', 'Algeria', 'Libya'],\n",
        "        'populations': [83992953, 9216900, 9890400, 5106622, 4270563, 29825968, 6825442, 40222503, 1701583, 36910558, 5101414, 2881060, 525285, 17500657, 11818618, 10203140, 102334403, 34813867, 988002, 43851043, 6871287],\n",
        "        'refugees': [800000, 34400, 8560, 638, 1790, 178000, 1360000, 283000, 360, 13600, 2320000, 444, 13300, 586000, 6320, 2980000, 329000, 9770, 32000, 99800, 44200]\n",
        "      },\n",
        "    'North America': {\n",
        "        'countries': ['Canada', 'United States'],\n",
        "        'populations': [38005238, 329484123],\n",
        "        'refugees': [195000, 1340000]},\n",
        "    'South Asia': {\n",
        "        'countries': ['Afghanistan', 'Nepal', 'India', 'Bangladesh', 'Bhutan', 'Maldives', 'Pakistan', 'Sri Lanka'],\n",
        "        'populations': [38928341, 29136808, 1380004385, 164689383, 771612, 540542, 220892331, 21919000],\n",
        "        'refugees': [72400, 19600, 207000, 867000, 0, 0, 1450000, 1240]\n",
        "    },\n",
        "    'Sub-Saharan Africa': {\n",
        "        'countries': ['Togo', 'Guinea', 'Ghana', 'Gabon', 'Ethiopia', 'Eritrea', 'Cape Verde', 'Comoros', 'Congo, Rep.', 'Tanzania', 'Uganda', 'Cameroon', \"Cote d'Ivoire\", 'Central African Republic', 'Botswana', 'Burkina Faso', 'Benin', 'Burundi', 'Angola', 'South Africa', 'Congo, Dem. Rep.', 'Chad', 'Seychelles', 'Eswatini', 'Nigeria', 'Niger', 'Namibia', 'Malawi', 'Mauritius', 'Mauritania', 'Mozambique', 'Mali', 'Rwanda', 'Madagascar', 'Gambia', 'Sudan', 'Lesotho', 'Sierra Leone', 'Liberia', 'Zambia', 'Somalia', 'South Sudan', 'Sao Tome and Principe', 'Kenya', 'Equatorial Guinea', 'Guinea-Bissau', 'Senegal', 'Zimbabwe'],\n",
        "        'populations': [8278737, 13132792, 31072945, 2225728, 114963583, 3213969, 555988, 869595, 5518092, 59734213, 45741000, 26545864, 26378275, 4829764, 2351625, 20903278, 12123198, 11890781, 32866268, 59308690, 89561404, 16425859, 98462, 1160164, 206139587, 24206636, 2540916, 19129955, 1265740, 4649660, 31255435, 20250834, 12952209, 27691019, 2416664, 43849269, 2142252, 7976985, 5057677, 18383956, 15893219, 11193729, 219161, 53771300, 1402985, 1967998, 16743930, 14862927],\n",
        "        'refugees': [11500, 9580, 13900, 562, 802000, 201, 0, 5, 40700, 263000, 1450000, 443000, 2340, 9370, 1060, 20300, 1870, 80400, 56100, 250000, 492000, 483000, 0, 2070, 68900, 237000, 5800, 48000, 20, 95600, 27200, 48400, 140000, 316, 4590, 1060000, 460, 342, 18900, 70400, 24500, 318000, 0, 505000, 0, 1890, 16300, 21200]\n",
        "    }\n",
        "}"
      ]
    },
    {
      "cell_type": "markdown",
      "metadata": {
        "id": "ANExjoi9jGby"
      },
      "source": [
        "### Questions"
      ]
    },
    {
      "cell_type": "markdown",
      "metadata": {
        "id": "m5TUCE5G1P5k"
      },
      "source": [
        "8. **Which region sheltered most refugees in 2020: the `Middle East and North Africa`, `Sub-Saharan Africa`, or `Europe and Central Asia`?**"
      ]
    },
    {
      "cell_type": "markdown",
      "metadata": {
        "id": "QaLqU54oT73A"
      },
      "source": [
        "9. **What was the percentage of refugees sheltered in the `Middle East and North Africa` (with respect to the region's population)?**"
      ]
    },
    {
      "cell_type": "markdown",
      "metadata": {
        "id": "zfuaeyDFT73A"
      },
      "source": [
        "10. **What was the country that sheltered the most refugees in the `Middle East and North Africa` in 2020?**"
      ]
    },
    {
      "cell_type": "markdown",
      "metadata": {
        "id": "VogjWH3IT73A"
      },
      "source": [
        "11. **What was the percentage of refugees sheltered in `Europe and Central Asia` that were sheltered in `Germany`?**"
      ]
    }
  ],
  "metadata": {
    "colab": {
      "provenance": [],
      "include_colab_link": true
    },
    "kernelspec": {
      "display_name": "Python 3 (ipykernel)",
      "language": "python",
      "name": "python3"
    },
    "language_info": {
      "codemirror_mode": {
        "name": "ipython",
        "version": 3
      },
      "file_extension": ".py",
      "mimetype": "text/x-python",
      "name": "python",
      "nbconvert_exporter": "python",
      "pygments_lexer": "ipython3",
      "version": "3.10.9"
    }
  },
  "nbformat": 4,
  "nbformat_minor": 0
}